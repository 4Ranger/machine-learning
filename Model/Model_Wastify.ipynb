{
  "nbformat": 4,
  "nbformat_minor": 0,
  "metadata": {
    "colab": {
      "provenance": [],
      "gpuType": "T4"
    },
    "kernelspec": {
      "name": "python3",
      "display_name": "Python 3"
    },
    "language_info": {
      "name": "python"
    },
    "accelerator": "GPU"
  },
  "cells": [
    {
      "cell_type": "code",
      "source": [
        "!pip install split-folders"
      ],
      "metadata": {
        "colab": {
          "base_uri": "https://localhost:8080/"
        },
        "id": "IJ0dKZfN1Hr-",
        "outputId": "44ecb834-e785-43e5-f18a-f0bb26cb8673"
      },
      "execution_count": 1,
      "outputs": [
        {
          "output_type": "stream",
          "name": "stdout",
          "text": [
            "Collecting split-folders\n",
            "  Downloading split_folders-0.5.1-py3-none-any.whl (8.4 kB)\n",
            "Installing collected packages: split-folders\n",
            "Successfully installed split-folders-0.5.1\n"
          ]
        }
      ]
    },
    {
      "cell_type": "code",
      "execution_count": 2,
      "metadata": {
        "id": "yDHAz_XEwSV9"
      },
      "outputs": [],
      "source": [
        "import pandas as pd\n",
        "import os\n",
        "import zipfile as zf\n",
        "import splitfolders\n",
        "from imutils import paths\n",
        "import numpy as np\n",
        "import tensorflow as tf\n",
        "import matplotlib.pyplot as plt\n",
        "from tensorflow.keras.applications import MobileNet\n",
        "from keras.applications.mobilenet import preprocess_input\n",
        "from tensorflow.keras.models import Model\n",
        "from tensorflow.keras.models import Sequential\n",
        "from tensorflow.keras.layers import Dense, GlobalAveragePooling2D, Dropout\n",
        "from tensorflow.keras.preprocessing.image import ImageDataGenerator\n",
        "from tensorflow.keras.optimizers import Adam\n",
        "import seaborn as sns\n",
        "from sklearn.metrics import classification_report, confusion_matrix"
      ]
    },
    {
      "cell_type": "markdown",
      "metadata": {
        "id": "YPem1IhpRRAs"
      },
      "source": [
        "# Prepare dataset\n"
      ]
    },
    {
      "cell_type": "code",
      "source": [
        "!gdown 1P6lWTRuNl_OqmQR-Yq9XkWXeNaofd1gM"
      ],
      "metadata": {
        "colab": {
          "base_uri": "https://localhost:8080/"
        },
        "id": "DmjiieuQN_aA",
        "outputId": "a7d349c8-0072-4bd8-a374-0d4ef1e9f7c1"
      },
      "execution_count": 3,
      "outputs": [
        {
          "output_type": "stream",
          "name": "stdout",
          "text": [
            "Downloading...\n",
            "From (original): https://drive.google.com/uc?id=1P6lWTRuNl_OqmQR-Yq9XkWXeNaofd1gM\n",
            "From (redirected): https://drive.google.com/uc?id=1P6lWTRuNl_OqmQR-Yq9XkWXeNaofd1gM&confirm=t&uuid=987ac509-b792-4f24-94dd-9905a5c4440b\n",
            "To: /content/trash_images_final-again.zip\n",
            "100% 134M/134M [00:02<00:00, 62.3MB/s]\n"
          ]
        }
      ]
    },
    {
      "cell_type": "code",
      "execution_count": 4,
      "metadata": {
        "colab": {
          "base_uri": "https://localhost:8080/"
        },
        "id": "cOVQPPFURW38",
        "outputId": "54c393af-5651-4c2a-ea1d-38b268a43552"
      },
      "outputs": [
        {
          "output_type": "execute_result",
          "data": {
            "text/plain": [
              "['plastic', 'metal', 'cardboard', 'organic', 'paper', 'glass']"
            ]
          },
          "metadata": {},
          "execution_count": 4
        }
      ],
      "source": [
        "files = zf.ZipFile(\"/content/trash_images_final-again.zip\",'r')\n",
        "files.extractall()\n",
        "files.close()\n",
        "os.listdir(os.path.join(os.getcwd(),\"trash_images_final\"))"
      ]
    },
    {
      "cell_type": "code",
      "source": [
        "splitfolders.ratio(\"/content/trash_images_final\", output=\"/content/data\",\n",
        "    seed=1337, ratio=(.8, .2), group_prefix=None, move=False)"
      ],
      "metadata": {
        "colab": {
          "base_uri": "https://localhost:8080/"
        },
        "id": "61HASckPcB6W",
        "outputId": "7bcfe19b-de2c-4138-dd73-806b512402cf"
      },
      "execution_count": 5,
      "outputs": [
        {
          "output_type": "stream",
          "name": "stderr",
          "text": [
            "Copying files: 4607 files [00:02, 1679.36 files/s]\n"
          ]
        }
      ]
    },
    {
      "cell_type": "code",
      "source": [
        "# Get the paths for the train and validation directories\n",
        "train_dir = os.path.join(os.getcwd(), \"data/train\")\n",
        "val_dir = os.path.join(os.getcwd(), \"data/val\")\n",
        "\n",
        "# Get a list of all the folders in the train and validation directories\n",
        "train_folders = os.listdir(train_dir)\n",
        "val_folders = os.listdir(val_dir)\n",
        "\n",
        "# Print the number of directories in each dataset\n",
        "print(f\"Number of directories in train dataset: {len(train_folders)}\")\n",
        "print(f\"Number of directories in validation dataset: {len(val_folders)}\")\n",
        "\n",
        "# Print the contents of each folder and the number of files in each folder\n",
        "print(\"\\nTrain data:\")\n",
        "for folder in train_folders:\n",
        "  folder_path = os.path.join(train_dir, folder)\n",
        "  files = os.listdir(folder_path)\n",
        "  print(f\"- {folder}: {len(files)}\")\n",
        "\n",
        "print(\"\\nValidation data:\")\n",
        "for folder in val_folders:\n",
        "  folder_path = os.path.join(val_dir, folder)\n",
        "  files = os.listdir(folder_path)\n",
        "  print(f\"- {folder}: {len(files)}\")\n",
        "# Get the paths for the train and validation directories\n",
        "train_dir = os.path.join(os.getcwd(), \"data/train\")\n",
        "val_dir = os.path.join(os.getcwd(), \"data/val\")\n",
        "\n",
        "# Get a list of all the folders in the train and validation directories\n",
        "train_folders = os.listdir(train_dir)\n",
        "val_folders = os.listdir(val_dir)\n",
        "\n",
        "total_train = len(list(paths.list_images(train_dir)))\n",
        "total_val = len(list(paths.list_images(val_dir)))\n",
        "print(\"\\nTotal training images:\", total_train)\n",
        "print(\"Total validation images:\", total_val)\n",
        "\n"
      ],
      "metadata": {
        "colab": {
          "base_uri": "https://localhost:8080/"
        },
        "id": "EELsQtuelrNX",
        "outputId": "0646f79a-fc71-4bf2-de58-75e9b6c65b26"
      },
      "execution_count": 6,
      "outputs": [
        {
          "output_type": "stream",
          "name": "stdout",
          "text": [
            "Number of directories in train dataset: 6\n",
            "Number of directories in validation dataset: 6\n",
            "\n",
            "Train data:\n",
            "- plastic: 621\n",
            "- metal: 620\n",
            "- cardboard: 600\n",
            "- organic: 616\n",
            "- paper: 603\n",
            "- glass: 624\n",
            "\n",
            "Validation data:\n",
            "- plastic: 156\n",
            "- metal: 156\n",
            "- cardboard: 150\n",
            "- organic: 154\n",
            "- paper: 151\n",
            "- glass: 156\n",
            "\n",
            "Total training images: 3684\n",
            "Total validation images: 923\n"
          ]
        }
      ]
    },
    {
      "cell_type": "markdown",
      "metadata": {
        "id": "D46gByYMOjx5"
      },
      "source": [
        "# Create Model"
      ]
    },
    {
      "cell_type": "code",
      "execution_count": 7,
      "metadata": {
        "id": "XFNPSUInO89N",
        "outputId": "b9b5a094-d920-4b6b-c52e-a49860bcd3f5",
        "colab": {
          "base_uri": "https://localhost:8080/"
        }
      },
      "outputs": [
        {
          "output_type": "stream",
          "name": "stdout",
          "text": [
            "Downloading data from https://storage.googleapis.com/tensorflow/keras-applications/mobilenet/mobilenet_1_0_224_tf_no_top.h5\n",
            "17225924/17225924 [==============================] - 0s 0us/step\n"
          ]
        }
      ],
      "source": [
        "base_model=tf.keras.applications.MobileNet(weights='imagenet',\n",
        "                                           include_top=False,\n",
        "                                           input_shape=(224, 224, 3))"
      ]
    },
    {
      "cell_type": "code",
      "execution_count": 8,
      "metadata": {
        "colab": {
          "base_uri": "https://localhost:8080/"
        },
        "id": "FRqHUDCFO87D",
        "outputId": "e16595b2-d249-41fb-c5b2-2e5838e3e512"
      },
      "outputs": [
        {
          "output_type": "stream",
          "name": "stdout",
          "text": [
            "Model: \"mobilenet_1.00_224\"\n",
            "_________________________________________________________________\n",
            " Layer (type)                Output Shape              Param #   \n",
            "=================================================================\n",
            " input_1 (InputLayer)        [(None, 224, 224, 3)]     0         \n",
            "                                                                 \n",
            " conv1 (Conv2D)              (None, 112, 112, 32)      864       \n",
            "                                                                 \n",
            " conv1_bn (BatchNormalizati  (None, 112, 112, 32)      128       \n",
            " on)                                                             \n",
            "                                                                 \n",
            " conv1_relu (ReLU)           (None, 112, 112, 32)      0         \n",
            "                                                                 \n",
            " conv_dw_1 (DepthwiseConv2D  (None, 112, 112, 32)      288       \n",
            " )                                                               \n",
            "                                                                 \n",
            " conv_dw_1_bn (BatchNormali  (None, 112, 112, 32)      128       \n",
            " zation)                                                         \n",
            "                                                                 \n",
            " conv_dw_1_relu (ReLU)       (None, 112, 112, 32)      0         \n",
            "                                                                 \n",
            " conv_pw_1 (Conv2D)          (None, 112, 112, 64)      2048      \n",
            "                                                                 \n",
            " conv_pw_1_bn (BatchNormali  (None, 112, 112, 64)      256       \n",
            " zation)                                                         \n",
            "                                                                 \n",
            " conv_pw_1_relu (ReLU)       (None, 112, 112, 64)      0         \n",
            "                                                                 \n",
            " conv_pad_2 (ZeroPadding2D)  (None, 113, 113, 64)      0         \n",
            "                                                                 \n",
            " conv_dw_2 (DepthwiseConv2D  (None, 56, 56, 64)        576       \n",
            " )                                                               \n",
            "                                                                 \n",
            " conv_dw_2_bn (BatchNormali  (None, 56, 56, 64)        256       \n",
            " zation)                                                         \n",
            "                                                                 \n",
            " conv_dw_2_relu (ReLU)       (None, 56, 56, 64)        0         \n",
            "                                                                 \n",
            " conv_pw_2 (Conv2D)          (None, 56, 56, 128)       8192      \n",
            "                                                                 \n",
            " conv_pw_2_bn (BatchNormali  (None, 56, 56, 128)       512       \n",
            " zation)                                                         \n",
            "                                                                 \n",
            " conv_pw_2_relu (ReLU)       (None, 56, 56, 128)       0         \n",
            "                                                                 \n",
            " conv_dw_3 (DepthwiseConv2D  (None, 56, 56, 128)       1152      \n",
            " )                                                               \n",
            "                                                                 \n",
            " conv_dw_3_bn (BatchNormali  (None, 56, 56, 128)       512       \n",
            " zation)                                                         \n",
            "                                                                 \n",
            " conv_dw_3_relu (ReLU)       (None, 56, 56, 128)       0         \n",
            "                                                                 \n",
            " conv_pw_3 (Conv2D)          (None, 56, 56, 128)       16384     \n",
            "                                                                 \n",
            " conv_pw_3_bn (BatchNormali  (None, 56, 56, 128)       512       \n",
            " zation)                                                         \n",
            "                                                                 \n",
            " conv_pw_3_relu (ReLU)       (None, 56, 56, 128)       0         \n",
            "                                                                 \n",
            " conv_pad_4 (ZeroPadding2D)  (None, 57, 57, 128)       0         \n",
            "                                                                 \n",
            " conv_dw_4 (DepthwiseConv2D  (None, 28, 28, 128)       1152      \n",
            " )                                                               \n",
            "                                                                 \n",
            " conv_dw_4_bn (BatchNormali  (None, 28, 28, 128)       512       \n",
            " zation)                                                         \n",
            "                                                                 \n",
            " conv_dw_4_relu (ReLU)       (None, 28, 28, 128)       0         \n",
            "                                                                 \n",
            " conv_pw_4 (Conv2D)          (None, 28, 28, 256)       32768     \n",
            "                                                                 \n",
            " conv_pw_4_bn (BatchNormali  (None, 28, 28, 256)       1024      \n",
            " zation)                                                         \n",
            "                                                                 \n",
            " conv_pw_4_relu (ReLU)       (None, 28, 28, 256)       0         \n",
            "                                                                 \n",
            " conv_dw_5 (DepthwiseConv2D  (None, 28, 28, 256)       2304      \n",
            " )                                                               \n",
            "                                                                 \n",
            " conv_dw_5_bn (BatchNormali  (None, 28, 28, 256)       1024      \n",
            " zation)                                                         \n",
            "                                                                 \n",
            " conv_dw_5_relu (ReLU)       (None, 28, 28, 256)       0         \n",
            "                                                                 \n",
            " conv_pw_5 (Conv2D)          (None, 28, 28, 256)       65536     \n",
            "                                                                 \n",
            " conv_pw_5_bn (BatchNormali  (None, 28, 28, 256)       1024      \n",
            " zation)                                                         \n",
            "                                                                 \n",
            " conv_pw_5_relu (ReLU)       (None, 28, 28, 256)       0         \n",
            "                                                                 \n",
            " conv_pad_6 (ZeroPadding2D)  (None, 29, 29, 256)       0         \n",
            "                                                                 \n",
            " conv_dw_6 (DepthwiseConv2D  (None, 14, 14, 256)       2304      \n",
            " )                                                               \n",
            "                                                                 \n",
            " conv_dw_6_bn (BatchNormali  (None, 14, 14, 256)       1024      \n",
            " zation)                                                         \n",
            "                                                                 \n",
            " conv_dw_6_relu (ReLU)       (None, 14, 14, 256)       0         \n",
            "                                                                 \n",
            " conv_pw_6 (Conv2D)          (None, 14, 14, 512)       131072    \n",
            "                                                                 \n",
            " conv_pw_6_bn (BatchNormali  (None, 14, 14, 512)       2048      \n",
            " zation)                                                         \n",
            "                                                                 \n",
            " conv_pw_6_relu (ReLU)       (None, 14, 14, 512)       0         \n",
            "                                                                 \n",
            " conv_dw_7 (DepthwiseConv2D  (None, 14, 14, 512)       4608      \n",
            " )                                                               \n",
            "                                                                 \n",
            " conv_dw_7_bn (BatchNormali  (None, 14, 14, 512)       2048      \n",
            " zation)                                                         \n",
            "                                                                 \n",
            " conv_dw_7_relu (ReLU)       (None, 14, 14, 512)       0         \n",
            "                                                                 \n",
            " conv_pw_7 (Conv2D)          (None, 14, 14, 512)       262144    \n",
            "                                                                 \n",
            " conv_pw_7_bn (BatchNormali  (None, 14, 14, 512)       2048      \n",
            " zation)                                                         \n",
            "                                                                 \n",
            " conv_pw_7_relu (ReLU)       (None, 14, 14, 512)       0         \n",
            "                                                                 \n",
            " conv_dw_8 (DepthwiseConv2D  (None, 14, 14, 512)       4608      \n",
            " )                                                               \n",
            "                                                                 \n",
            " conv_dw_8_bn (BatchNormali  (None, 14, 14, 512)       2048      \n",
            " zation)                                                         \n",
            "                                                                 \n",
            " conv_dw_8_relu (ReLU)       (None, 14, 14, 512)       0         \n",
            "                                                                 \n",
            " conv_pw_8 (Conv2D)          (None, 14, 14, 512)       262144    \n",
            "                                                                 \n",
            " conv_pw_8_bn (BatchNormali  (None, 14, 14, 512)       2048      \n",
            " zation)                                                         \n",
            "                                                                 \n",
            " conv_pw_8_relu (ReLU)       (None, 14, 14, 512)       0         \n",
            "                                                                 \n",
            " conv_dw_9 (DepthwiseConv2D  (None, 14, 14, 512)       4608      \n",
            " )                                                               \n",
            "                                                                 \n",
            " conv_dw_9_bn (BatchNormali  (None, 14, 14, 512)       2048      \n",
            " zation)                                                         \n",
            "                                                                 \n",
            " conv_dw_9_relu (ReLU)       (None, 14, 14, 512)       0         \n",
            "                                                                 \n",
            " conv_pw_9 (Conv2D)          (None, 14, 14, 512)       262144    \n",
            "                                                                 \n",
            " conv_pw_9_bn (BatchNormali  (None, 14, 14, 512)       2048      \n",
            " zation)                                                         \n",
            "                                                                 \n",
            " conv_pw_9_relu (ReLU)       (None, 14, 14, 512)       0         \n",
            "                                                                 \n",
            " conv_dw_10 (DepthwiseConv2  (None, 14, 14, 512)       4608      \n",
            " D)                                                              \n",
            "                                                                 \n",
            " conv_dw_10_bn (BatchNormal  (None, 14, 14, 512)       2048      \n",
            " ization)                                                        \n",
            "                                                                 \n",
            " conv_dw_10_relu (ReLU)      (None, 14, 14, 512)       0         \n",
            "                                                                 \n",
            " conv_pw_10 (Conv2D)         (None, 14, 14, 512)       262144    \n",
            "                                                                 \n",
            " conv_pw_10_bn (BatchNormal  (None, 14, 14, 512)       2048      \n",
            " ization)                                                        \n",
            "                                                                 \n",
            " conv_pw_10_relu (ReLU)      (None, 14, 14, 512)       0         \n",
            "                                                                 \n",
            " conv_dw_11 (DepthwiseConv2  (None, 14, 14, 512)       4608      \n",
            " D)                                                              \n",
            "                                                                 \n",
            " conv_dw_11_bn (BatchNormal  (None, 14, 14, 512)       2048      \n",
            " ization)                                                        \n",
            "                                                                 \n",
            " conv_dw_11_relu (ReLU)      (None, 14, 14, 512)       0         \n",
            "                                                                 \n",
            " conv_pw_11 (Conv2D)         (None, 14, 14, 512)       262144    \n",
            "                                                                 \n",
            " conv_pw_11_bn (BatchNormal  (None, 14, 14, 512)       2048      \n",
            " ization)                                                        \n",
            "                                                                 \n",
            " conv_pw_11_relu (ReLU)      (None, 14, 14, 512)       0         \n",
            "                                                                 \n",
            " conv_pad_12 (ZeroPadding2D  (None, 15, 15, 512)       0         \n",
            " )                                                               \n",
            "                                                                 \n",
            " conv_dw_12 (DepthwiseConv2  (None, 7, 7, 512)         4608      \n",
            " D)                                                              \n",
            "                                                                 \n",
            " conv_dw_12_bn (BatchNormal  (None, 7, 7, 512)         2048      \n",
            " ization)                                                        \n",
            "                                                                 \n",
            " conv_dw_12_relu (ReLU)      (None, 7, 7, 512)         0         \n",
            "                                                                 \n",
            " conv_pw_12 (Conv2D)         (None, 7, 7, 1024)        524288    \n",
            "                                                                 \n",
            " conv_pw_12_bn (BatchNormal  (None, 7, 7, 1024)        4096      \n",
            " ization)                                                        \n",
            "                                                                 \n",
            " conv_pw_12_relu (ReLU)      (None, 7, 7, 1024)        0         \n",
            "                                                                 \n",
            " conv_dw_13 (DepthwiseConv2  (None, 7, 7, 1024)        9216      \n",
            " D)                                                              \n",
            "                                                                 \n",
            " conv_dw_13_bn (BatchNormal  (None, 7, 7, 1024)        4096      \n",
            " ization)                                                        \n",
            "                                                                 \n",
            " conv_dw_13_relu (ReLU)      (None, 7, 7, 1024)        0         \n",
            "                                                                 \n",
            " conv_pw_13 (Conv2D)         (None, 7, 7, 1024)        1048576   \n",
            "                                                                 \n",
            " conv_pw_13_bn (BatchNormal  (None, 7, 7, 1024)        4096      \n",
            " ization)                                                        \n",
            "                                                                 \n",
            " conv_pw_13_relu (ReLU)      (None, 7, 7, 1024)        0         \n",
            "                                                                 \n",
            "=================================================================\n",
            "Total params: 3228864 (12.32 MB)\n",
            "Trainable params: 3206976 (12.23 MB)\n",
            "Non-trainable params: 21888 (85.50 KB)\n",
            "_________________________________________________________________\n"
          ]
        }
      ],
      "source": [
        "base_model.summary()"
      ]
    },
    {
      "cell_type": "code",
      "source": [
        "model =  Sequential([\n",
        "    base_model,\n",
        "    GlobalAveragePooling2D(),\n",
        "    Dense(1024, activation='relu'),\n",
        "    Dropout(0.5),\n",
        "    Dense(1024, activation='relu'),\n",
        "    Dropout(0.3),\n",
        "    Dense(1024, activation='relu'),\n",
        "    Dropout(0.2),\n",
        "    Dense(6, activation='softmax')\n",
        "])"
      ],
      "metadata": {
        "id": "7EuxCRCmSgqN"
      },
      "execution_count": 9,
      "outputs": []
    },
    {
      "cell_type": "code",
      "execution_count": 10,
      "metadata": {
        "id": "V5eS_a1wPL30"
      },
      "outputs": [],
      "source": [
        "for layer in base_model.layers[:20]:\n",
        "    layer.trainable=False\n",
        "for layer in model.layers[20:]:\n",
        "    layer.trainable=True"
      ]
    },
    {
      "cell_type": "code",
      "execution_count": 11,
      "metadata": {
        "colab": {
          "base_uri": "https://localhost:8080/"
        },
        "id": "cwOlKJJgOx3W",
        "outputId": "fdeac882-e93e-4c34-f3e3-6031a7fb036c"
      },
      "outputs": [
        {
          "output_type": "stream",
          "name": "stdout",
          "text": [
            "Model: \"sequential\"\n",
            "_________________________________________________________________\n",
            " Layer (type)                Output Shape              Param #   \n",
            "=================================================================\n",
            " mobilenet_1.00_224 (Functi  (None, 7, 7, 1024)        3228864   \n",
            " onal)                                                           \n",
            "                                                                 \n",
            " global_average_pooling2d (  (None, 1024)              0         \n",
            " GlobalAveragePooling2D)                                         \n",
            "                                                                 \n",
            " dense (Dense)               (None, 1024)              1049600   \n",
            "                                                                 \n",
            " dropout (Dropout)           (None, 1024)              0         \n",
            "                                                                 \n",
            " dense_1 (Dense)             (None, 1024)              1049600   \n",
            "                                                                 \n",
            " dropout_1 (Dropout)         (None, 1024)              0         \n",
            "                                                                 \n",
            " dense_2 (Dense)             (None, 1024)              1049600   \n",
            "                                                                 \n",
            " dropout_2 (Dropout)         (None, 1024)              0         \n",
            "                                                                 \n",
            " dense_3 (Dense)             (None, 6)                 6150      \n",
            "                                                                 \n",
            "=================================================================\n",
            "Total params: 6383814 (24.35 MB)\n",
            "Trainable params: 6347910 (24.22 MB)\n",
            "Non-trainable params: 35904 (140.25 KB)\n",
            "_________________________________________________________________\n"
          ]
        }
      ],
      "source": [
        "model.summary()"
      ]
    },
    {
      "cell_type": "code",
      "execution_count": 12,
      "metadata": {
        "id": "QJYORBddPe9z"
      },
      "outputs": [],
      "source": [
        "# Add our data-augmentation parameters to ImageDataGenerator\n",
        "train_datagen = ImageDataGenerator( rescale = 1.0/255.,\n",
        "                                    shear_range=0.2,\n",
        "                                    rotation_range=40,\n",
        "                                    width_shift_range=0.3,\n",
        "                                    height_shift_range=0.3,\n",
        "                                    zoom_range=0.3,\n",
        "                                    horizontal_flip=True,)\n",
        "\n",
        "# Note that the validation data should not be augmented!\n",
        "test_datagen  = ImageDataGenerator( rescale = 1.0/255.,\n",
        "                                    rotation_range=30,\n",
        "                                    width_shift_range=0.3,\n",
        "                                    height_shift_range=0.3,\n",
        "                                    zoom_range=0.3,\n",
        "                                    horizontal_flip=True)"
      ]
    },
    {
      "cell_type": "code",
      "execution_count": 13,
      "metadata": {
        "colab": {
          "base_uri": "https://localhost:8080/"
        },
        "id": "Pd58GhYDP8Jz",
        "outputId": "cba179f1-9404-4b83-94f4-93a1125578d4"
      },
      "outputs": [
        {
          "output_type": "stream",
          "name": "stdout",
          "text": [
            "Found 3684 images belonging to 6 classes.\n",
            "Found 923 images belonging to 6 classes.\n"
          ]
        }
      ],
      "source": [
        "# Flow training images in batches of 20 using train_datagen generator\n",
        "train_generator = train_datagen.flow_from_directory(train_dir,\n",
        "                                                    batch_size=16,\n",
        "                                                    class_mode='categorical',\n",
        "                                                    color_mode='rgb',\n",
        "                                                    shuffle=True,\n",
        "                                                    target_size=(224, 224))\n",
        "\n",
        "# Flow validation images in batches of 20 using test_datagen generator\n",
        "validation_generator =  test_datagen.flow_from_directory(val_dir,\n",
        "                                                         batch_size=16,\n",
        "                                                         class_mode='categorical',\n",
        "                                                         color_mode='rgb',\n",
        "                                                         shuffle=False,\n",
        "                                                         target_size=(224, 224))"
      ]
    },
    {
      "cell_type": "code",
      "execution_count": 14,
      "metadata": {
        "colab": {
          "base_uri": "https://localhost:8080/"
        },
        "id": "dEAQXYLqQlOh",
        "outputId": "8927b0d9-eb64-42f9-8bba-181c3ca1e3a1"
      },
      "outputs": [
        {
          "output_type": "stream",
          "name": "stdout",
          "text": [
            "Epoch 1/60\n",
            "230/230 [==============================] - 106s 353ms/step - loss: 1.7538 - accuracy: 0.2702 - val_loss: 1.3593 - val_accuracy: 0.5746\n",
            "Epoch 2/60\n",
            "230/230 [==============================] - 74s 322ms/step - loss: 1.4038 - accuracy: 0.4591 - val_loss: 0.9921 - val_accuracy: 0.7007\n",
            "Epoch 3/60\n",
            "230/230 [==============================] - 79s 345ms/step - loss: 1.1370 - accuracy: 0.5728 - val_loss: 0.7765 - val_accuracy: 0.7566\n",
            "Epoch 4/60\n",
            "230/230 [==============================] - 82s 355ms/step - loss: 0.9433 - accuracy: 0.6499 - val_loss: 0.6441 - val_accuracy: 0.7807\n",
            "Epoch 5/60\n",
            "230/230 [==============================] - 81s 351ms/step - loss: 0.8386 - accuracy: 0.6889 - val_loss: 0.5530 - val_accuracy: 0.8103\n",
            "Epoch 6/60\n",
            "230/230 [==============================] - 75s 328ms/step - loss: 0.7323 - accuracy: 0.7268 - val_loss: 0.4999 - val_accuracy: 0.8125\n",
            "Epoch 7/60\n",
            "230/230 [==============================] - 72s 312ms/step - loss: 0.6797 - accuracy: 0.7552 - val_loss: 0.4547 - val_accuracy: 0.8388\n",
            "Epoch 8/60\n",
            "230/230 [==============================] - 73s 316ms/step - loss: 0.6399 - accuracy: 0.7704 - val_loss: 0.4183 - val_accuracy: 0.8454\n",
            "Epoch 9/60\n",
            "230/230 [==============================] - 74s 322ms/step - loss: 0.6060 - accuracy: 0.7794 - val_loss: 0.4099 - val_accuracy: 0.8410\n",
            "Epoch 10/60\n",
            "230/230 [==============================] - 71s 311ms/step - loss: 0.5703 - accuracy: 0.7974 - val_loss: 0.3902 - val_accuracy: 0.8629\n",
            "Epoch 11/60\n",
            "230/230 [==============================] - 79s 344ms/step - loss: 0.5379 - accuracy: 0.8078 - val_loss: 0.3659 - val_accuracy: 0.8695\n",
            "Epoch 12/60\n",
            "230/230 [==============================] - 72s 315ms/step - loss: 0.4841 - accuracy: 0.8282 - val_loss: 0.3672 - val_accuracy: 0.8706\n",
            "Epoch 13/60\n",
            "230/230 [==============================] - 73s 315ms/step - loss: 0.4954 - accuracy: 0.8209 - val_loss: 0.3265 - val_accuracy: 0.8893\n",
            "Epoch 14/60\n",
            "230/230 [==============================] - 74s 320ms/step - loss: 0.4535 - accuracy: 0.8427 - val_loss: 0.3115 - val_accuracy: 0.8827\n",
            "Epoch 15/60\n",
            "230/230 [==============================] - 79s 344ms/step - loss: 0.4287 - accuracy: 0.8533 - val_loss: 0.3065 - val_accuracy: 0.8904\n",
            "Epoch 16/60\n",
            "230/230 [==============================] - 81s 353ms/step - loss: 0.4068 - accuracy: 0.8569 - val_loss: 0.3039 - val_accuracy: 0.8893\n",
            "Epoch 17/60\n",
            "230/230 [==============================] - 80s 347ms/step - loss: 0.3919 - accuracy: 0.8667 - val_loss: 0.2979 - val_accuracy: 0.8893\n",
            "Epoch 18/60\n",
            "230/230 [==============================] - 79s 345ms/step - loss: 0.4009 - accuracy: 0.8547 - val_loss: 0.2723 - val_accuracy: 0.9013\n",
            "Epoch 19/60\n",
            "230/230 [==============================] - 74s 320ms/step - loss: 0.3614 - accuracy: 0.8762 - val_loss: 0.2834 - val_accuracy: 0.8958\n",
            "Epoch 20/60\n",
            "230/230 [==============================] - 80s 349ms/step - loss: 0.3527 - accuracy: 0.8691 - val_loss: 0.2904 - val_accuracy: 0.9035\n",
            "Epoch 21/60\n",
            "230/230 [==============================] - 80s 348ms/step - loss: 0.3483 - accuracy: 0.8817 - val_loss: 0.2740 - val_accuracy: 0.9090\n",
            "Epoch 22/60\n",
            "230/230 [==============================] - 80s 348ms/step - loss: 0.3324 - accuracy: 0.8795 - val_loss: 0.2744 - val_accuracy: 0.9002\n",
            "Epoch 23/60\n",
            "230/230 [==============================] - 79s 344ms/step - loss: 0.3168 - accuracy: 0.8885 - val_loss: 0.2578 - val_accuracy: 0.9068\n",
            "Epoch 24/60\n",
            "230/230 [==============================] - 79s 346ms/step - loss: 0.3108 - accuracy: 0.8879 - val_loss: 0.2598 - val_accuracy: 0.9090\n",
            "Epoch 25/60\n",
            "230/230 [==============================] - 79s 342ms/step - loss: 0.3017 - accuracy: 0.8948 - val_loss: 0.2465 - val_accuracy: 0.9134\n",
            "Epoch 26/60\n",
            "230/230 [==============================] - 74s 322ms/step - loss: 0.3015 - accuracy: 0.9005 - val_loss: 0.2563 - val_accuracy: 0.9035\n",
            "Epoch 27/60\n",
            "230/230 [==============================] - 71s 309ms/step - loss: 0.2745 - accuracy: 0.8980 - val_loss: 0.2554 - val_accuracy: 0.9178\n",
            "Epoch 28/60\n",
            "230/230 [==============================] - 79s 344ms/step - loss: 0.2709 - accuracy: 0.9046 - val_loss: 0.2512 - val_accuracy: 0.9134\n",
            "Epoch 29/60\n",
            "230/230 [==============================] - 74s 322ms/step - loss: 0.2540 - accuracy: 0.9065 - val_loss: 0.2952 - val_accuracy: 0.9079\n",
            "Epoch 30/60\n",
            "230/230 [==============================] - 72s 312ms/step - loss: 0.2557 - accuracy: 0.9098 - val_loss: 0.2586 - val_accuracy: 0.9178\n",
            "Epoch 31/60\n",
            "230/230 [==============================] - 78s 339ms/step - loss: 0.2455 - accuracy: 0.9144 - val_loss: 0.2467 - val_accuracy: 0.9211\n",
            "Epoch 32/60\n",
            "230/230 [==============================] - 79s 345ms/step - loss: 0.2364 - accuracy: 0.9188 - val_loss: 0.2117 - val_accuracy: 0.9331\n",
            "Epoch 33/60\n",
            "230/230 [==============================] - 73s 316ms/step - loss: 0.2345 - accuracy: 0.9138 - val_loss: 0.2361 - val_accuracy: 0.9211\n",
            "Epoch 34/60\n",
            "230/230 [==============================] - 72s 313ms/step - loss: 0.2463 - accuracy: 0.9163 - val_loss: 0.2420 - val_accuracy: 0.9178\n",
            "Epoch 35/60\n",
            "230/230 [==============================] - 71s 309ms/step - loss: 0.2337 - accuracy: 0.9253 - val_loss: 0.2422 - val_accuracy: 0.9243\n",
            "Epoch 36/60\n",
            "230/230 [==============================] - 72s 314ms/step - loss: 0.2263 - accuracy: 0.9234 - val_loss: 0.2530 - val_accuracy: 0.9079\n",
            "Epoch 37/60\n",
            "230/230 [==============================] - 80s 350ms/step - loss: 0.2150 - accuracy: 0.9267 - val_loss: 0.2618 - val_accuracy: 0.9178\n",
            "Epoch 38/60\n",
            "230/230 [==============================] - 73s 318ms/step - loss: 0.2128 - accuracy: 0.9272 - val_loss: 0.2457 - val_accuracy: 0.9221\n",
            "Epoch 39/60\n",
            "230/230 [==============================] - 81s 354ms/step - loss: 0.2105 - accuracy: 0.9242 - val_loss: 0.2382 - val_accuracy: 0.9211\n",
            "Epoch 40/60\n",
            "230/230 [==============================] - 80s 349ms/step - loss: 0.1913 - accuracy: 0.9332 - val_loss: 0.2477 - val_accuracy: 0.9254\n",
            "Epoch 41/60\n",
            "230/230 [==============================] - 73s 318ms/step - loss: 0.1903 - accuracy: 0.9327 - val_loss: 0.2396 - val_accuracy: 0.9200\n",
            "Epoch 42/60\n",
            "230/230 [==============================] - 73s 316ms/step - loss: 0.1847 - accuracy: 0.9378 - val_loss: 0.2351 - val_accuracy: 0.9287\n",
            "Epoch 43/60\n",
            "230/230 [==============================] - 80s 348ms/step - loss: 0.1737 - accuracy: 0.9406 - val_loss: 0.2167 - val_accuracy: 0.9298\n",
            "Epoch 44/60\n",
            "230/230 [==============================] - 73s 317ms/step - loss: 0.1653 - accuracy: 0.9444 - val_loss: 0.2596 - val_accuracy: 0.9298\n",
            "Epoch 45/60\n",
            "230/230 [==============================] - 74s 323ms/step - loss: 0.1833 - accuracy: 0.9359 - val_loss: 0.2427 - val_accuracy: 0.9211\n",
            "Epoch 46/60\n",
            "230/230 [==============================] - 79s 342ms/step - loss: 0.1633 - accuracy: 0.9408 - val_loss: 0.2541 - val_accuracy: 0.9265\n",
            "Epoch 47/60\n",
            "230/230 [==============================] - 80s 350ms/step - loss: 0.1695 - accuracy: 0.9433 - val_loss: 0.2355 - val_accuracy: 0.9298\n",
            "Epoch 48/60\n",
            "230/230 [==============================] - 73s 316ms/step - loss: 0.1666 - accuracy: 0.9427 - val_loss: 0.2427 - val_accuracy: 0.9287\n",
            "Epoch 49/60\n",
            "230/230 [==============================] - 73s 316ms/step - loss: 0.1540 - accuracy: 0.9457 - val_loss: 0.2484 - val_accuracy: 0.9232\n",
            "Epoch 50/60\n",
            "230/230 [==============================] - 80s 350ms/step - loss: 0.1436 - accuracy: 0.9498 - val_loss: 0.2493 - val_accuracy: 0.9221\n",
            "Epoch 51/60\n",
            "230/230 [==============================] - 78s 341ms/step - loss: 0.1561 - accuracy: 0.9487 - val_loss: 0.2247 - val_accuracy: 0.9364\n",
            "Epoch 52/60\n",
            "230/230 [==============================] - 79s 345ms/step - loss: 0.1585 - accuracy: 0.9457 - val_loss: 0.2575 - val_accuracy: 0.9254\n",
            "Epoch 53/60\n",
            "230/230 [==============================] - 81s 351ms/step - loss: 0.1474 - accuracy: 0.9477 - val_loss: 0.2768 - val_accuracy: 0.9112\n",
            "Epoch 54/60\n",
            "230/230 [==============================] - 72s 313ms/step - loss: 0.1504 - accuracy: 0.9477 - val_loss: 0.2756 - val_accuracy: 0.9167\n",
            "Epoch 55/60\n",
            "230/230 [==============================] - 73s 316ms/step - loss: 0.1454 - accuracy: 0.9485 - val_loss: 0.2499 - val_accuracy: 0.9298\n",
            "Epoch 56/60\n",
            "230/230 [==============================] - 71s 309ms/step - loss: 0.1291 - accuracy: 0.9567 - val_loss: 0.2590 - val_accuracy: 0.9243\n",
            "Epoch 57/60\n",
            "230/230 [==============================] - 72s 313ms/step - loss: 0.1254 - accuracy: 0.9561 - val_loss: 0.2304 - val_accuracy: 0.9276\n",
            "Epoch 58/60\n",
            "230/230 [==============================] - 79s 345ms/step - loss: 0.1169 - accuracy: 0.9621 - val_loss: 0.2397 - val_accuracy: 0.9320\n",
            "Epoch 59/60\n",
            "230/230 [==============================] - 71s 308ms/step - loss: 0.1296 - accuracy: 0.9561 - val_loss: 0.2795 - val_accuracy: 0.9189\n",
            "Epoch 60/60\n",
            "230/230 [==============================] - 79s 345ms/step - loss: 0.1052 - accuracy: 0.9670 - val_loss: 0.2373 - val_accuracy: 0.9331\n"
          ]
        }
      ],
      "source": [
        "model.compile(loss='categorical_crossentropy',\n",
        "              optimizer=tf.keras.optimizers.Adam(learning_rate = 0.00001),\n",
        "              metrics=['accuracy'])\n",
        "\n",
        "H = model.fit(train_generator,\n",
        "              steps_per_epoch=total_train // 16,\n",
        "              validation_data=validation_generator,\n",
        "              validation_steps=total_val // 16,\n",
        "              epochs=60)"
      ]
    },
    {
      "cell_type": "markdown",
      "source": [
        "#Evaluasi Model"
      ],
      "metadata": {
        "id": "TIlxTS-RHvlC"
      }
    },
    {
      "cell_type": "code",
      "execution_count": 15,
      "metadata": {
        "id": "HvUIWg2FIJFd",
        "colab": {
          "base_uri": "https://localhost:8080/",
          "height": 905
        },
        "outputId": "726a8e09-4aad-4742-89dd-846f53fe6205"
      },
      "outputs": [
        {
          "output_type": "execute_result",
          "data": {
            "text/plain": [
              "Text(0.5, 1.0, 'Training and validation loss')"
            ]
          },
          "metadata": {},
          "execution_count": 15
        },
        {
          "output_type": "display_data",
          "data": {
            "text/plain": [
              "<Figure size 640x480 with 1 Axes>"
            ],
            "image/png": "[encoded data removed]"
          },
          "metadata": {}
        },
        {
          "output_type": "display_data",
          "data": {
            "text/plain": [
              "<Figure size 640x480 with 1 Axes>"
            ],
            "image/png": "[encoded data removed]"
          },
          "metadata": {}
        }
      ],
      "source": [
        "#-----------------------------------------------------------\n",
        "# Retrieve a list of list results on training and test data\n",
        "# sets for each training epoch\n",
        "#-----------------------------------------------------------\n",
        "acc      = H.history[    'accuracy' ]\n",
        "val_acc  = H.history['val_accuracy' ]\n",
        "loss     = H.history[    'loss' ]\n",
        "val_loss = H.history['val_loss' ]\n",
        "\n",
        "epochs   = range(len(acc)) # Get number of epochs\n",
        "\n",
        "#------------------------------------------------\n",
        "# Plot training and validation accuracy per epoch\n",
        "#------------------------------------------------\n",
        "plt.plot  ( epochs,     acc, label='Training')\n",
        "plt.plot  ( epochs, val_acc, label='Validation')\n",
        "plt.title ('Training and validation accuracy')\n",
        "plt.legend()\n",
        "plt.figure()\n",
        "\n",
        "#------------------------------------------------\n",
        "# Plot training and validation loss per epoch\n",
        "#------------------------------------------------\n",
        "plt.plot  ( epochs,     loss, label='Training')\n",
        "plt.plot  ( epochs, val_loss, label='Validation')\n",
        "plt.legend()\n",
        "plt.title ('Training and validation loss')"
      ]
    },
    {
      "cell_type": "code",
      "source": [
        "# Get the predictions for the validation data\n",
        "y_pred = model.predict(validation_generator)\n",
        "# Convert the predictions to class labels\n",
        "y_pred = np.argmax(y_pred, axis=1)\n",
        "# Print the classification report\n",
        "print(classification_report(validation_generator.classes, y_pred))"
      ],
      "metadata": {
        "id": "FFCNA1OYFSFN",
        "colab": {
          "base_uri": "https://localhost:8080/"
        },
        "outputId": "783334e6-f5f1-4bb6-ab71-52ef6545a511"
      },
      "execution_count": 16,
      "outputs": [
        {
          "output_type": "stream",
          "name": "stdout",
          "text": [
            "58/58 [==============================] - 15s 242ms/step\n",
            "              precision    recall  f1-score   support\n",
            "\n",
            "           0       0.96      0.95      0.96       150\n",
            "           1       0.88      0.92      0.90       156\n",
            "           2       0.92      0.88      0.90       156\n",
            "           3       0.94      0.99      0.97       154\n",
            "           4       0.94      0.95      0.94       151\n",
            "           5       0.92      0.85      0.89       156\n",
            "\n",
            "    accuracy                           0.93       923\n",
            "   macro avg       0.93      0.93      0.93       923\n",
            "weighted avg       0.93      0.93      0.93       923\n",
            "\n"
          ]
        }
      ]
    },
    {
      "source": [
        "def plot_confusion_matrix(y_true, y_pred, title):\n",
        "    cm = confusion_matrix(y_true, y_pred)\n",
        "    plt.figure(figsize=(8, 6))\n",
        "    sns.heatmap(cm, annot=True, fmt='d', cmap='Blues', cbar=False)\n",
        "    plt.xlabel('Predicted labels')\n",
        "    plt.ylabel('True labels')\n",
        "    plt.title(title)\n",
        "    plt.show()\n",
        "\n",
        "# Extract true labels from the validation generator (to match y_pred)\n",
        "y_true = validation_generator.classes\n",
        "\n",
        "# y_pred is already calculated in a previous cell, no need for argmax here\n",
        "plot_confusion_matrix(y_true, y_pred, 'Confusion Matrix Mobilenet')"
      ],
      "cell_type": "code",
      "metadata": {
        "colab": {
          "base_uri": "https://localhost:8080/",
          "height": 564
        },
        "id": "vKiQ8mwka7I7",
        "outputId": "85da3931-cb17-487a-eeac-250525f7f975"
      },
      "execution_count": 22,
      "outputs": [
        {
          "output_type": "display_data",
          "data": {
            "text/plain": [
              "<Figure size 800x600 with 1 Axes>"
            ],
            "image/png": "[encoded data removed]"
          },
          "metadata": {}
        }
      ]
    },
    {
      "cell_type": "markdown",
      "source": [
        "#Save Model and Convert Model To Tensorflow Json"
      ],
      "metadata": {
        "id": "EQijzR-89MYt"
      }
    },
    {
      "cell_type": "code",
      "execution_count": 23,
      "metadata": {
        "id": "87U0HnM1FSTP",
        "colab": {
          "base_uri": "https://localhost:8080/"
        },
        "outputId": "65389cdb-4a05-478c-f769-02639f0b1805"
      },
      "outputs": [
        {
          "output_type": "stream",
          "name": "stdout",
          "text": [
            "• Using TensorFlow Version: 2.15.0\n"
          ]
        }
      ],
      "source": [
        "import tensorflow as tf\n",
        "\n",
        "print('\\u2022 Using TensorFlow Version:', tf.__version__)"
      ]
    },
    {
      "cell_type": "code",
      "execution_count": 24,
      "metadata": {
        "id": "2MWDjSV-0R5w",
        "colab": {
          "base_uri": "https://localhost:8080/"
        },
        "outputId": "9f20c428-bc8f-4023-fc0a-838c8306e9f8"
      },
      "outputs": [
        {
          "output_type": "stream",
          "name": "stdout",
          "text": [
            "\u001b[2K     \u001b[90m━━━━━━━━━━━━━━━━━━━━━━━━━━━━━━━━━━━━━━━━\u001b[0m \u001b[32m89.1/89.1 kB\u001b[0m \u001b[31m3.1 MB/s\u001b[0m eta \u001b[36m0:00:00\u001b[0m\n",
            "\u001b[2K     \u001b[90m━━━━━━━━━━━━━━━━━━━━━━━━━━━━━━━━━━━━━━━━\u001b[0m \u001b[32m15.5/15.5 MB\u001b[0m \u001b[31m47.9 MB/s\u001b[0m eta \u001b[36m0:00:00\u001b[0m\n",
            "\u001b[2K     \u001b[90m━━━━━━━━━━━━━━━━━━━━━━━━━━━━━━━━━━━━━━━━\u001b[0m \u001b[32m53.0/53.0 kB\u001b[0m \u001b[31m5.0 MB/s\u001b[0m eta \u001b[36m0:00:00\u001b[0m\n",
            "\u001b[2K     \u001b[90m━━━━━━━━━━━━━━━━━━━━━━━━━━━━━━━━━━━━━━━━\u001b[0m \u001b[32m589.8/589.8 MB\u001b[0m \u001b[31m2.8 MB/s\u001b[0m eta \u001b[36m0:00:00\u001b[0m\n",
            "\u001b[2K     \u001b[90m━━━━━━━━━━━━━━━━━━━━━━━━━━━━━━━━━━━━━━━━\u001b[0m \u001b[32m1.7/1.7 MB\u001b[0m \u001b[31m87.1 MB/s\u001b[0m eta \u001b[36m0:00:00\u001b[0m\n",
            "\u001b[2K     \u001b[90m━━━━━━━━━━━━━━━━━━━━━━━━━━━━━━━━━━━━━━━━\u001b[0m \u001b[32m9.3/9.3 MB\u001b[0m \u001b[31m101.2 MB/s\u001b[0m eta \u001b[36m0:00:00\u001b[0m\n",
            "\u001b[2K     \u001b[90m━━━━━━━━━━━━━━━━━━━━━━━━━━━━━━━━━━━━━━━━\u001b[0m \u001b[32m5.3/5.3 MB\u001b[0m \u001b[31m103.8 MB/s\u001b[0m eta \u001b[36m0:00:00\u001b[0m\n",
            "\u001b[2K     \u001b[90m━━━━━━━━━━━━━━━━━━━━━━━━━━━━━━━━━━━━━━━━\u001b[0m \u001b[32m2.2/2.2 MB\u001b[0m \u001b[31m92.7 MB/s\u001b[0m eta \u001b[36m0:00:00\u001b[0m\n",
            "\u001b[2K     \u001b[90m━━━━━━━━━━━━━━━━━━━━━━━━━━━━━━━━━━━━━━━━\u001b[0m \u001b[32m5.5/5.5 MB\u001b[0m \u001b[31m101.2 MB/s\u001b[0m eta \u001b[36m0:00:00\u001b[0m\n",
            "\u001b[2K     \u001b[90m━━━━━━━━━━━━━━━━━━━━━━━━━━━━━━━━━━━━━━━━\u001b[0m \u001b[32m1.1/1.1 MB\u001b[0m \u001b[31m69.3 MB/s\u001b[0m eta \u001b[36m0:00:00\u001b[0m\n",
            "\u001b[2K     \u001b[90m━━━━━━━━━━━━━━━━━━━━━━━━━━━━━━━━━━━━━━━━\u001b[0m \u001b[32m311.2/311.2 kB\u001b[0m \u001b[31m33.0 MB/s\u001b[0m eta \u001b[36m0:00:00\u001b[0m\n",
            "\u001b[?25h"
          ]
        }
      ],
      "source": [
        "pip install tensorflowjs --quiet"
      ]
    },
    {
      "cell_type": "code",
      "execution_count": 27,
      "metadata": {
        "id": "ABBuC5zRHPjN",
        "colab": {
          "base_uri": "https://localhost:8080/"
        },
        "outputId": "2c2b1c9f-0f67-44cb-dcd3-d5641773524e"
      },
      "outputs": [
        {
          "output_type": "stream",
          "name": "stderr",
          "text": [
            "/usr/local/lib/python3.10/dist-packages/keras/src/engine/training.py:3103: UserWarning: You are saving your model as an HDF5 file via `model.save()`. This file format is considered legacy. We recommend using instead the native Keras format, e.g. `model.save('my_model.keras')`.\n",
            "  saving_api.save_model(\n"
          ]
        },
        {
          "output_type": "stream",
          "name": "stdout",
          "text": [
            "2024-06-21 06:18:27.058460: W tensorflow/compiler/tf2tensorrt/utils/py_utils.cc:38] TF-TRT Warning: Could not find TensorRT\n",
            "  adding: group1-shard1of7.bin (deflated 8%)\n",
            "  adding: group1-shard2of7.bin (deflated 8%)\n",
            "  adding: group1-shard3of7.bin (deflated 8%)\n",
            "  adding: group1-shard4of7.bin (deflated 7%)\n",
            "  adding: group1-shard5of7.bin (deflated 7%)\n",
            "  adding: group1-shard6of7.bin (deflated 7%)\n",
            "  adding: group1-shard7of7.bin (deflated 7%)\n",
            "  adding: model.json (deflated 95%)\n"
          ]
        }
      ],
      "source": [
        "# tensorflow.js converter to convert the saved Keras model into JSON format.\n",
        "model.save('model_wastify.h5')\n",
        "saved_model_path = \"/content/model_wastify.h5\"\n",
        "!tensorflowjs_converter --input_format=keras {saved_model_path} ./\n",
        "!zip modelwastify.zip *.bin model.json"
      ]
    }
  ]
}