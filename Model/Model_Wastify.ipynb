{
  "nbformat": 4,
  "nbformat_minor": 0,
  "metadata": {
    "colab": {
      "provenance": []
    },
    "kernelspec": {
      "name": "python3",
      "display_name": "Python 3"
    },
    "language_info": {
      "name": "python"
    }
  },
  "cells": [
    {
      "cell_type": "code",
      "source": [
        "!pip install split-folders"
      ],
      "metadata": {
        "colab": {
          "base_uri": "https://localhost:8080/"
        },
        "id": "IJ0dKZfN1Hr-",
        "outputId": "767f4626-20e2-4411-a562-196569156caa"
      },
      "execution_count": null,
      "outputs": [
        {
          "output_type": "stream",
          "name": "stdout",
          "text": [
            "Collecting split-folders\n",
            "  Downloading split_folders-0.5.1-py3-none-any.whl (8.4 kB)\n",
            "Installing collected packages: split-folders\n",
            "Successfully installed split-folders-0.5.1\n"
          ]
        }
      ]
    },
    {
      "cell_type": "code",
      "execution_count": null,
      "metadata": {
        "id": "yDHAz_XEwSV9"
      },
      "outputs": [],
      "source": [
        "import pandas as pd\n",
        "import os\n",
        "import zipfile as zf\n",
        "import splitfolders\n",
        "from imutils import paths\n",
        "import tensorflow as tf\n",
        "import matplotlib.pyplot as plt\n",
        "from tensorflow.keras.applications import MobileNet\n",
        "from tensorflow.keras.models import Model\n",
        "from tensorflow.keras.models import Sequential\n",
        "from tensorflow.keras.layers import Dense, GlobalAveragePooling2D, Dropout\n",
        "from tensorflow.keras.preprocessing.image import ImageDataGenerator\n",
        "from tensorflow.keras.optimizers import Adam"
      ]
    },
    {
      "cell_type": "markdown",
      "metadata": {
        "id": "YPem1IhpRRAs"
      },
      "source": [
        "# Prepare dataset\n"
      ]
    },
    {
      "cell_type": "code",
      "source": [
        "!gdown 1P6lWTRuNl_OqmQR-Yq9XkWXeNaofd1gM"
      ],
      "metadata": {
        "colab": {
          "base_uri": "https://localhost:8080/"
        },
        "id": "DmjiieuQN_aA",
        "outputId": "13a9927e-9704-45d7-854c-af3a11ffd553"
      },
      "execution_count": null,
      "outputs": [
        {
          "output_type": "stream",
          "name": "stdout",
          "text": [
            "Downloading...\n",
            "From (original): https://drive.google.com/uc?id=1P6lWTRuNl_OqmQR-Yq9XkWXeNaofd1gM\n",
            "From (redirected): https://drive.google.com/uc?id=1P6lWTRuNl_OqmQR-Yq9XkWXeNaofd1gM&confirm=t&uuid=36a9b74e-5b95-4502-9a96-60ed2a2a4659\n",
            "To: /content/trash_images_final-again.zip\n",
            "100% 134M/134M [00:01<00:00, 112MB/s]\n"
          ]
        }
      ]
    },
    {
      "cell_type": "code",
      "execution_count": null,
      "metadata": {
        "colab": {
          "base_uri": "https://localhost:8080/"
        },
        "id": "cOVQPPFURW38",
        "outputId": "cb1a08f1-3073-4ff1-a832-432bd8d04bd6"
      },
      "outputs": [
        {
          "output_type": "execute_result",
          "data": {
            "text/plain": [
              "['metal', 'paper', 'organic', 'glass', 'cardboard', 'plastic']"
            ]
          },
          "metadata": {},
          "execution_count": 5
        }
      ],
      "source": [
        "files = zf.ZipFile(\"/content/trash_images_final-again.zip\",'r')\n",
        "files.extractall()\n",
        "files.close()\n",
        "os.listdir(os.path.join(os.getcwd(),\"trash_images_final\"))"
      ]
    },
    {
      "cell_type": "code",
      "source": [
        "splitfolders.ratio(\"/content/trash_images_final\", output=\"/content/data\",\n",
        "    seed=1337, ratio=(.8, .2), group_prefix=None, move=False)"
      ],
      "metadata": {
        "colab": {
          "base_uri": "https://localhost:8080/"
        },
        "id": "61HASckPcB6W",
        "outputId": "c36da357-fc96-41b0-d786-f85dc8c2ef06"
      },
      "execution_count": null,
      "outputs": [
        {
          "output_type": "stream",
          "name": "stderr",
          "text": [
            "Copying files: 4607 files [00:00, 5628.76 files/s]\n"
          ]
        }
      ]
    },
    {
      "cell_type": "code",
      "source": [
        "# Get the paths for the train and validation directories\n",
        "train_dir = os.path.join(os.getcwd(), \"data/train\")\n",
        "val_dir = os.path.join(os.getcwd(), \"data/val\")\n",
        "\n",
        "# Get a list of all the folders in the train and validation directories\n",
        "train_folders = os.listdir(train_dir)\n",
        "val_folders = os.listdir(val_dir)\n",
        "\n",
        "# Print the number of directories in each dataset\n",
        "print(f\"Number of directories in train dataset: {len(train_folders)}\")\n",
        "print(f\"Number of directories in validation dataset: {len(val_folders)}\")\n",
        "\n",
        "# Print the contents of each folder and the number of files in each folder\n",
        "print(\"\\nTrain data:\")\n",
        "for folder in train_folders:\n",
        "  folder_path = os.path.join(train_dir, folder)\n",
        "  files = os.listdir(folder_path)\n",
        "  print(f\"- {folder}: {len(files)}\")\n",
        "\n",
        "print(\"\\nValidation data:\")\n",
        "for folder in val_folders:\n",
        "  folder_path = os.path.join(val_dir, folder)\n",
        "  files = os.listdir(folder_path)\n",
        "  print(f\"- {folder}: {len(files)}\")\n",
        "# Get the paths for the train and validation directories\n",
        "train_dir = os.path.join(os.getcwd(), \"data/train\")\n",
        "val_dir = os.path.join(os.getcwd(), \"data/val\")\n",
        "\n",
        "# Get a list of all the folders in the train and validation directories\n",
        "train_folders = os.listdir(train_dir)\n",
        "val_folders = os.listdir(val_dir)\n",
        "\n",
        "total_train = len(list(paths.list_images(train_dir)))\n",
        "total_val = len(list(paths.list_images(val_dir)))\n",
        "print(\"\\nTotal training images:\", total_train)\n",
        "print(\"Total validation images:\", total_val)\n",
        "\n"
      ],
      "metadata": {
        "colab": {
          "base_uri": "https://localhost:8080/"
        },
        "id": "EELsQtuelrNX",
        "outputId": "59a494c4-ff84-4075-ae2f-c51e18b96459"
      },
      "execution_count": null,
      "outputs": [
        {
          "output_type": "stream",
          "name": "stdout",
          "text": [
            "Number of directories in train dataset: 6\n",
            "Number of directories in validation dataset: 6\n",
            "\n",
            "Train data:\n",
            "- metal: 620\n",
            "- paper: 603\n",
            "- organic: 616\n",
            "- glass: 624\n",
            "- cardboard: 600\n",
            "- plastic: 621\n",
            "\n",
            "Validation data:\n",
            "- metal: 156\n",
            "- paper: 151\n",
            "- organic: 154\n",
            "- glass: 156\n",
            "- cardboard: 150\n",
            "- plastic: 156\n",
            "\n",
            "Total training images: 3684\n",
            "Total validation images: 923\n"
          ]
        }
      ]
    },
    {
      "cell_type": "markdown",
      "metadata": {
        "id": "D46gByYMOjx5"
      },
      "source": [
        "# Create Model"
      ]
    },
    {
      "cell_type": "code",
      "execution_count": null,
      "metadata": {
        "id": "XFNPSUInO89N",
        "outputId": "99ad6e9a-1726-4cbf-a88e-4e571885b7d4",
        "colab": {
          "base_uri": "https://localhost:8080/"
        }
      },
      "outputs": [
        {
          "output_type": "stream",
          "name": "stdout",
          "text": [
            "Downloading data from https://storage.googleapis.com/tensorflow/keras-applications/mobilenet/mobilenet_1_0_224_tf_no_top.h5\n",
            "17225924/17225924 [==============================] - 2s 0us/step\n"
          ]
        }
      ],
      "source": [
        "base_model=tf.keras.applications.MobileNet(weights='imagenet',\n",
        "                                           include_top=False,\n",
        "                                           input_shape=(224, 224, 3))"
      ]
    },
    {
      "cell_type": "code",
      "execution_count": null,
      "metadata": {
        "colab": {
          "base_uri": "https://localhost:8080/"
        },
        "id": "FRqHUDCFO87D",
        "outputId": "de11c3a4-343b-4cdf-801d-c5940102195e"
      },
      "outputs": [
        {
          "output_type": "stream",
          "name": "stdout",
          "text": [
            "Model: \"mobilenet_1.00_224\"\n",
            "_________________________________________________________________\n",
            " Layer (type)                Output Shape              Param #   \n",
            "=================================================================\n",
            " input_2 (InputLayer)        [(None, 224, 224, 3)]     0         \n",
            "                                                                 \n",
            " conv1 (Conv2D)              (None, 112, 112, 32)      864       \n",
            "                                                                 \n",
            " conv1_bn (BatchNormalizati  (None, 112, 112, 32)      128       \n",
            " on)                                                             \n",
            "                                                                 \n",
            " conv1_relu (ReLU)           (None, 112, 112, 32)      0         \n",
            "                                                                 \n",
            " conv_dw_1 (DepthwiseConv2D  (None, 112, 112, 32)      288       \n",
            " )                                                               \n",
            "                                                                 \n",
            " conv_dw_1_bn (BatchNormali  (None, 112, 112, 32)      128       \n",
            " zation)                                                         \n",
            "                                                                 \n",
            " conv_dw_1_relu (ReLU)       (None, 112, 112, 32)      0         \n",
            "                                                                 \n",
            " conv_pw_1 (Conv2D)          (None, 112, 112, 64)      2048      \n",
            "                                                                 \n",
            " conv_pw_1_bn (BatchNormali  (None, 112, 112, 64)      256       \n",
            " zation)                                                         \n",
            "                                                                 \n",
            " conv_pw_1_relu (ReLU)       (None, 112, 112, 64)      0         \n",
            "                                                                 \n",
            " conv_pad_2 (ZeroPadding2D)  (None, 113, 113, 64)      0         \n",
            "                                                                 \n",
            " conv_dw_2 (DepthwiseConv2D  (None, 56, 56, 64)        576       \n",
            " )                                                               \n",
            "                                                                 \n",
            " conv_dw_2_bn (BatchNormali  (None, 56, 56, 64)        256       \n",
            " zation)                                                         \n",
            "                                                                 \n",
            " conv_dw_2_relu (ReLU)       (None, 56, 56, 64)        0         \n",
            "                                                                 \n",
            " conv_pw_2 (Conv2D)          (None, 56, 56, 128)       8192      \n",
            "                                                                 \n",
            " conv_pw_2_bn (BatchNormali  (None, 56, 56, 128)       512       \n",
            " zation)                                                         \n",
            "                                                                 \n",
            " conv_pw_2_relu (ReLU)       (None, 56, 56, 128)       0         \n",
            "                                                                 \n",
            " conv_dw_3 (DepthwiseConv2D  (None, 56, 56, 128)       1152      \n",
            " )                                                               \n",
            "                                                                 \n",
            " conv_dw_3_bn (BatchNormali  (None, 56, 56, 128)       512       \n",
            " zation)                                                         \n",
            "                                                                 \n",
            " conv_dw_3_relu (ReLU)       (None, 56, 56, 128)       0         \n",
            "                                                                 \n",
            " conv_pw_3 (Conv2D)          (None, 56, 56, 128)       16384     \n",
            "                                                                 \n",
            " conv_pw_3_bn (BatchNormali  (None, 56, 56, 128)       512       \n",
            " zation)                                                         \n",
            "                                                                 \n",
            " conv_pw_3_relu (ReLU)       (None, 56, 56, 128)       0         \n",
            "                                                                 \n",
            " conv_pad_4 (ZeroPadding2D)  (None, 57, 57, 128)       0         \n",
            "                                                                 \n",
            " conv_dw_4 (DepthwiseConv2D  (None, 28, 28, 128)       1152      \n",
            " )                                                               \n",
            "                                                                 \n",
            " conv_dw_4_bn (BatchNormali  (None, 28, 28, 128)       512       \n",
            " zation)                                                         \n",
            "                                                                 \n",
            " conv_dw_4_relu (ReLU)       (None, 28, 28, 128)       0         \n",
            "                                                                 \n",
            " conv_pw_4 (Conv2D)          (None, 28, 28, 256)       32768     \n",
            "                                                                 \n",
            " conv_pw_4_bn (BatchNormali  (None, 28, 28, 256)       1024      \n",
            " zation)                                                         \n",
            "                                                                 \n",
            " conv_pw_4_relu (ReLU)       (None, 28, 28, 256)       0         \n",
            "                                                                 \n",
            " conv_dw_5 (DepthwiseConv2D  (None, 28, 28, 256)       2304      \n",
            " )                                                               \n",
            "                                                                 \n",
            " conv_dw_5_bn (BatchNormali  (None, 28, 28, 256)       1024      \n",
            " zation)                                                         \n",
            "                                                                 \n",
            " conv_dw_5_relu (ReLU)       (None, 28, 28, 256)       0         \n",
            "                                                                 \n",
            " conv_pw_5 (Conv2D)          (None, 28, 28, 256)       65536     \n",
            "                                                                 \n",
            " conv_pw_5_bn (BatchNormali  (None, 28, 28, 256)       1024      \n",
            " zation)                                                         \n",
            "                                                                 \n",
            " conv_pw_5_relu (ReLU)       (None, 28, 28, 256)       0         \n",
            "                                                                 \n",
            " conv_pad_6 (ZeroPadding2D)  (None, 29, 29, 256)       0         \n",
            "                                                                 \n",
            " conv_dw_6 (DepthwiseConv2D  (None, 14, 14, 256)       2304      \n",
            " )                                                               \n",
            "                                                                 \n",
            " conv_dw_6_bn (BatchNormali  (None, 14, 14, 256)       1024      \n",
            " zation)                                                         \n",
            "                                                                 \n",
            " conv_dw_6_relu (ReLU)       (None, 14, 14, 256)       0         \n",
            "                                                                 \n",
            " conv_pw_6 (Conv2D)          (None, 14, 14, 512)       131072    \n",
            "                                                                 \n",
            " conv_pw_6_bn (BatchNormali  (None, 14, 14, 512)       2048      \n",
            " zation)                                                         \n",
            "                                                                 \n",
            " conv_pw_6_relu (ReLU)       (None, 14, 14, 512)       0         \n",
            "                                                                 \n",
            " conv_dw_7 (DepthwiseConv2D  (None, 14, 14, 512)       4608      \n",
            " )                                                               \n",
            "                                                                 \n",
            " conv_dw_7_bn (BatchNormali  (None, 14, 14, 512)       2048      \n",
            " zation)                                                         \n",
            "                                                                 \n",
            " conv_dw_7_relu (ReLU)       (None, 14, 14, 512)       0         \n",
            "                                                                 \n",
            " conv_pw_7 (Conv2D)          (None, 14, 14, 512)       262144    \n",
            "                                                                 \n",
            " conv_pw_7_bn (BatchNormali  (None, 14, 14, 512)       2048      \n",
            " zation)                                                         \n",
            "                                                                 \n",
            " conv_pw_7_relu (ReLU)       (None, 14, 14, 512)       0         \n",
            "                                                                 \n",
            " conv_dw_8 (DepthwiseConv2D  (None, 14, 14, 512)       4608      \n",
            " )                                                               \n",
            "                                                                 \n",
            " conv_dw_8_bn (BatchNormali  (None, 14, 14, 512)       2048      \n",
            " zation)                                                         \n",
            "                                                                 \n",
            " conv_dw_8_relu (ReLU)       (None, 14, 14, 512)       0         \n",
            "                                                                 \n",
            " conv_pw_8 (Conv2D)          (None, 14, 14, 512)       262144    \n",
            "                                                                 \n",
            " conv_pw_8_bn (BatchNormali  (None, 14, 14, 512)       2048      \n",
            " zation)                                                         \n",
            "                                                                 \n",
            " conv_pw_8_relu (ReLU)       (None, 14, 14, 512)       0         \n",
            "                                                                 \n",
            " conv_dw_9 (DepthwiseConv2D  (None, 14, 14, 512)       4608      \n",
            " )                                                               \n",
            "                                                                 \n",
            " conv_dw_9_bn (BatchNormali  (None, 14, 14, 512)       2048      \n",
            " zation)                                                         \n",
            "                                                                 \n",
            " conv_dw_9_relu (ReLU)       (None, 14, 14, 512)       0         \n",
            "                                                                 \n",
            " conv_pw_9 (Conv2D)          (None, 14, 14, 512)       262144    \n",
            "                                                                 \n",
            " conv_pw_9_bn (BatchNormali  (None, 14, 14, 512)       2048      \n",
            " zation)                                                         \n",
            "                                                                 \n",
            " conv_pw_9_relu (ReLU)       (None, 14, 14, 512)       0         \n",
            "                                                                 \n",
            " conv_dw_10 (DepthwiseConv2  (None, 14, 14, 512)       4608      \n",
            " D)                                                              \n",
            "                                                                 \n",
            " conv_dw_10_bn (BatchNormal  (None, 14, 14, 512)       2048      \n",
            " ization)                                                        \n",
            "                                                                 \n",
            " conv_dw_10_relu (ReLU)      (None, 14, 14, 512)       0         \n",
            "                                                                 \n",
            " conv_pw_10 (Conv2D)         (None, 14, 14, 512)       262144    \n",
            "                                                                 \n",
            " conv_pw_10_bn (BatchNormal  (None, 14, 14, 512)       2048      \n",
            " ization)                                                        \n",
            "                                                                 \n",
            " conv_pw_10_relu (ReLU)      (None, 14, 14, 512)       0         \n",
            "                                                                 \n",
            " conv_dw_11 (DepthwiseConv2  (None, 14, 14, 512)       4608      \n",
            " D)                                                              \n",
            "                                                                 \n",
            " conv_dw_11_bn (BatchNormal  (None, 14, 14, 512)       2048      \n",
            " ization)                                                        \n",
            "                                                                 \n",
            " conv_dw_11_relu (ReLU)      (None, 14, 14, 512)       0         \n",
            "                                                                 \n",
            " conv_pw_11 (Conv2D)         (None, 14, 14, 512)       262144    \n",
            "                                                                 \n",
            " conv_pw_11_bn (BatchNormal  (None, 14, 14, 512)       2048      \n",
            " ization)                                                        \n",
            "                                                                 \n",
            " conv_pw_11_relu (ReLU)      (None, 14, 14, 512)       0         \n",
            "                                                                 \n",
            " conv_pad_12 (ZeroPadding2D  (None, 15, 15, 512)       0         \n",
            " )                                                               \n",
            "                                                                 \n",
            " conv_dw_12 (DepthwiseConv2  (None, 7, 7, 512)         4608      \n",
            " D)                                                              \n",
            "                                                                 \n",
            " conv_dw_12_bn (BatchNormal  (None, 7, 7, 512)         2048      \n",
            " ization)                                                        \n",
            "                                                                 \n",
            " conv_dw_12_relu (ReLU)      (None, 7, 7, 512)         0         \n",
            "                                                                 \n",
            " conv_pw_12 (Conv2D)         (None, 7, 7, 1024)        524288    \n",
            "                                                                 \n",
            " conv_pw_12_bn (BatchNormal  (None, 7, 7, 1024)        4096      \n",
            " ization)                                                        \n",
            "                                                                 \n",
            " conv_pw_12_relu (ReLU)      (None, 7, 7, 1024)        0         \n",
            "                                                                 \n",
            " conv_dw_13 (DepthwiseConv2  (None, 7, 7, 1024)        9216      \n",
            " D)                                                              \n",
            "                                                                 \n",
            " conv_dw_13_bn (BatchNormal  (None, 7, 7, 1024)        4096      \n",
            " ization)                                                        \n",
            "                                                                 \n",
            " conv_dw_13_relu (ReLU)      (None, 7, 7, 1024)        0         \n",
            "                                                                 \n",
            " conv_pw_13 (Conv2D)         (None, 7, 7, 1024)        1048576   \n",
            "                                                                 \n",
            " conv_pw_13_bn (BatchNormal  (None, 7, 7, 1024)        4096      \n",
            " ization)                                                        \n",
            "                                                                 \n",
            " conv_pw_13_relu (ReLU)      (None, 7, 7, 1024)        0         \n",
            "                                                                 \n",
            "=================================================================\n",
            "Total params: 3228864 (12.32 MB)\n",
            "Trainable params: 3206976 (12.23 MB)\n",
            "Non-trainable params: 21888 (85.50 KB)\n",
            "_________________________________________________________________\n"
          ]
        }
      ],
      "source": [
        "base_model.summary()"
      ]
    },
    {
      "cell_type": "code",
      "source": [
        "model =  tf.keras.models.Sequential([\n",
        "    base_model,\n",
        "    tf.keras.models.GlobalAveragePooling2D(),\n",
        "    tf.keras.models.Dense(1024, activation='relu'),\n",
        "    tf.keras.models.DenseDropout(0.5),\n",
        "    tf.keras.models.DenseDense(1024, activation='relu'),\n",
        "    tf.keras.models.DenseDropout(0.3),\n",
        "    tf.keras.models.DenseDense(1024, activation='relu'),\n",
        "    tf.keras.models.DenseDropout(0.2),\n",
        "    tf.keras.models.DenseDense(6, activation='softmax')\n",
        "])"
      ],
      "metadata": {
        "id": "7EuxCRCmSgqN"
      },
      "execution_count": null,
      "outputs": []
    },
    {
      "cell_type": "code",
      "execution_count": null,
      "metadata": {
        "id": "V5eS_a1wPL30"
      },
      "outputs": [],
      "source": [
        "for layer in base_model.layers[:20]:\n",
        "    layer.trainable=False\n",
        "for layer in model.layers[20:]:\n",
        "    layer.trainable=True"
      ]
    },
    {
      "cell_type": "code",
      "execution_count": null,
      "metadata": {
        "colab": {
          "base_uri": "https://localhost:8080/"
        },
        "id": "cwOlKJJgOx3W",
        "outputId": "497ad62e-ce78-4ed8-d955-949495700e46"
      },
      "outputs": [
        {
          "output_type": "stream",
          "name": "stdout",
          "text": [
            "Model: \"sequential\"\n",
            "_________________________________________________________________\n",
            " Layer (type)                Output Shape              Param #   \n",
            "=================================================================\n",
            " mobilenet_1.00_224 (Functi  (None, 7, 7, 1024)        3228864   \n",
            " onal)                                                           \n",
            "                                                                 \n",
            " global_average_pooling2d (  (None, 1024)              0         \n",
            " GlobalAveragePooling2D)                                         \n",
            "                                                                 \n",
            " dense (Dense)               (None, 1024)              1049600   \n",
            "                                                                 \n",
            " dropout (Dropout)           (None, 1024)              0         \n",
            "                                                                 \n",
            " dense_1 (Dense)             (None, 1024)              1049600   \n",
            "                                                                 \n",
            " dropout_1 (Dropout)         (None, 1024)              0         \n",
            "                                                                 \n",
            " dense_2 (Dense)             (None, 1024)              1049600   \n",
            "                                                                 \n",
            " dropout_2 (Dropout)         (None, 1024)              0         \n",
            "                                                                 \n",
            " dense_3 (Dense)             (None, 6)                 6150      \n",
            "                                                                 \n",
            "=================================================================\n",
            "Total params: 6383814 (24.35 MB)\n",
            "Trainable params: 6347910 (24.22 MB)\n",
            "Non-trainable params: 35904 (140.25 KB)\n",
            "_________________________________________________________________\n"
          ]
        }
      ],
      "source": [
        "model.summary()"
      ]
    },
    {
      "cell_type": "code",
      "execution_count": null,
      "metadata": {
        "id": "QJYORBddPe9z"
      },
      "outputs": [],
      "source": [
        "# Add our data-augmentation parameters to ImageDataGenerator\n",
        "train_datagen = ImageDataGenerator( rescale = 1.0/255.\n",
        "                                    shear_range=0.2,\n",
        "                                    rotation_range=40,\n",
        "                                    width_shift_range=0.3,\n",
        "                                    height_shift_range=0.3,\n",
        "                                    zoom_range=0.3,\n",
        "                                    horizontal_flip=True,)\n",
        "\n",
        "# Note that the validation data should not be augmented!\n",
        "test_datagen  = ImageDataGenerator( rescale = 1.0/255.,\n",
        "                                    rotation_range=30,\n",
        "                                    width_shift_range=0.3,\n",
        "                                    height_shift_range=0.3,\n",
        "                                    zoom_range=0.3,\n",
        "                                    horizontal_flip=True)"
      ]
    },
    {
      "cell_type": "code",
      "execution_count": null,
      "metadata": {
        "colab": {
          "base_uri": "https://localhost:8080/"
        },
        "id": "Pd58GhYDP8Jz",
        "outputId": "14d62b04-0867-4ea2-cf1f-d5ffcd36143b"
      },
      "outputs": [
        {
          "output_type": "stream",
          "name": "stdout",
          "text": [
            "Found 3684 images belonging to 6 classes.\n",
            "Found 923 images belonging to 6 classes.\n"
          ]
        }
      ],
      "source": [
        "# Flow training images in batches of 20 using train_datagen generator\n",
        "train_generator = train_datagen.flow_from_directory(train_dir,\n",
        "                                                    batch_size=16,\n",
        "                                                    class_mode='categorical',\n",
        "                                                    color_mode='rgb',\n",
        "                                                    shuffle=True,\n",
        "                                                    target_size=(224, 224))\n",
        "\n",
        "# Flow validation images in batches of 20 using test_datagen generator\n",
        "validation_generator =  test_datagen.flow_from_directory(val_dir,\n",
        "                                                         batch_size=16,\n",
        "                                                         class_mode='categorical',\n",
        "                                                         color_mode='rgb',\n",
        "                                                         shuffle=False,\n",
        "                                                         target_size=(224, 224))"
      ]
    },
    {
      "cell_type": "code",
      "execution_count": null,
      "metadata": {
        "colab": {
          "base_uri": "https://localhost:8080/"
        },
        "id": "dEAQXYLqQlOh",
        "outputId": "b5ce9197-94a8-4f65-a044-08b00a47da31"
      },
      "outputs": [
        {
          "output_type": "stream",
          "name": "stdout",
          "text": [
            "Epoch 1/60\n",
            "230/230 [==============================] - 84s 287ms/step - loss: 1.7768 - accuracy: 0.2655 - val_loss: 1.3208 - val_accuracy: 0.6590\n",
            "Epoch 2/60\n",
            "230/230 [==============================] - 70s 302ms/step - loss: 1.3993 - accuracy: 0.4539 - val_loss: 0.9188 - val_accuracy: 0.7774\n",
            "Epoch 3/60\n",
            "230/230 [==============================] - 64s 278ms/step - loss: 1.1115 - accuracy: 0.5941 - val_loss: 0.6787 - val_accuracy: 0.8004\n",
            "Epoch 4/60\n",
            "230/230 [==============================] - 65s 281ms/step - loss: 0.9049 - accuracy: 0.6682 - val_loss: 0.5326 - val_accuracy: 0.8311\n",
            "Epoch 5/60\n",
            "230/230 [==============================] - 62s 270ms/step - loss: 0.7848 - accuracy: 0.7216 - val_loss: 0.4514 - val_accuracy: 0.8465\n",
            "Epoch 6/60\n",
            "230/230 [==============================] - 64s 278ms/step - loss: 0.6931 - accuracy: 0.7519 - val_loss: 0.3882 - val_accuracy: 0.8542\n",
            "Epoch 7/60\n",
            "230/230 [==============================] - 68s 294ms/step - loss: 0.6437 - accuracy: 0.7617 - val_loss: 0.3537 - val_accuracy: 0.8640\n",
            "Epoch 8/60\n",
            "230/230 [==============================] - 66s 289ms/step - loss: 0.5839 - accuracy: 0.7844 - val_loss: 0.3261 - val_accuracy: 0.8750\n",
            "Epoch 9/60\n",
            "230/230 [==============================] - 63s 274ms/step - loss: 0.5508 - accuracy: 0.7983 - val_loss: 0.3031 - val_accuracy: 0.8827\n",
            "Epoch 10/60\n",
            "230/230 [==============================] - 62s 271ms/step - loss: 0.5167 - accuracy: 0.8067 - val_loss: 0.2872 - val_accuracy: 0.8925\n",
            "Epoch 11/60\n",
            "230/230 [==============================] - 66s 288ms/step - loss: 0.4707 - accuracy: 0.8307 - val_loss: 0.2645 - val_accuracy: 0.8947\n",
            "Epoch 12/60\n",
            "230/230 [==============================] - 64s 279ms/step - loss: 0.4486 - accuracy: 0.8367 - val_loss: 0.2648 - val_accuracy: 0.9013\n",
            "Epoch 13/60\n",
            "230/230 [==============================] - 65s 283ms/step - loss: 0.4276 - accuracy: 0.8481 - val_loss: 0.2418 - val_accuracy: 0.9068\n",
            "Epoch 14/60\n",
            "230/230 [==============================] - 64s 280ms/step - loss: 0.3967 - accuracy: 0.8577 - val_loss: 0.2285 - val_accuracy: 0.9178\n",
            "Epoch 15/60\n",
            "230/230 [==============================] - 65s 282ms/step - loss: 0.3892 - accuracy: 0.8585 - val_loss: 0.2239 - val_accuracy: 0.9211\n",
            "Epoch 16/60\n",
            "230/230 [==============================] - 66s 287ms/step - loss: 0.3695 - accuracy: 0.8700 - val_loss: 0.2159 - val_accuracy: 0.9189\n",
            "Epoch 17/60\n",
            "230/230 [==============================] - 65s 285ms/step - loss: 0.3487 - accuracy: 0.8811 - val_loss: 0.2077 - val_accuracy: 0.9232\n",
            "Epoch 18/60\n",
            "230/230 [==============================] - 65s 285ms/step - loss: 0.3291 - accuracy: 0.8836 - val_loss: 0.2044 - val_accuracy: 0.9211\n",
            "Epoch 19/60\n",
            "230/230 [==============================] - 63s 274ms/step - loss: 0.3117 - accuracy: 0.8896 - val_loss: 0.1963 - val_accuracy: 0.9243\n",
            "Epoch 20/60\n",
            "230/230 [==============================] - 66s 287ms/step - loss: 0.3066 - accuracy: 0.8893 - val_loss: 0.1963 - val_accuracy: 0.9276\n",
            "Epoch 21/60\n",
            "230/230 [==============================] - 66s 287ms/step - loss: 0.2876 - accuracy: 0.9059 - val_loss: 0.1848 - val_accuracy: 0.9364\n",
            "Epoch 22/60\n",
            "230/230 [==============================] - 63s 274ms/step - loss: 0.2836 - accuracy: 0.9035 - val_loss: 0.1826 - val_accuracy: 0.9331\n",
            "Epoch 23/60\n",
            "230/230 [==============================] - 64s 277ms/step - loss: 0.2463 - accuracy: 0.9163 - val_loss: 0.1820 - val_accuracy: 0.9364\n",
            "Epoch 24/60\n",
            "230/230 [==============================] - 65s 281ms/step - loss: 0.2489 - accuracy: 0.9117 - val_loss: 0.1977 - val_accuracy: 0.9320\n",
            "Epoch 25/60\n",
            "230/230 [==============================] - 64s 277ms/step - loss: 0.2423 - accuracy: 0.9128 - val_loss: 0.1792 - val_accuracy: 0.9342\n",
            "Epoch 26/60\n",
            "230/230 [==============================] - 62s 268ms/step - loss: 0.2301 - accuracy: 0.9207 - val_loss: 0.1747 - val_accuracy: 0.9386\n",
            "Epoch 27/60\n",
            "230/230 [==============================] - 63s 274ms/step - loss: 0.2300 - accuracy: 0.9204 - val_loss: 0.1637 - val_accuracy: 0.9397\n",
            "Epoch 28/60\n",
            "230/230 [==============================] - 64s 276ms/step - loss: 0.2235 - accuracy: 0.9190 - val_loss: 0.1676 - val_accuracy: 0.9397\n",
            "Epoch 29/60\n",
            "230/230 [==============================] - 66s 286ms/step - loss: 0.2094 - accuracy: 0.9297 - val_loss: 0.1590 - val_accuracy: 0.9408\n",
            "Epoch 30/60\n",
            "230/230 [==============================] - 71s 308ms/step - loss: 0.1952 - accuracy: 0.9329 - val_loss: 0.1683 - val_accuracy: 0.9375\n",
            "Epoch 31/60\n",
            "230/230 [==============================] - 66s 289ms/step - loss: 0.1905 - accuracy: 0.9373 - val_loss: 0.1663 - val_accuracy: 0.9386\n",
            "Epoch 32/60\n",
            "230/230 [==============================] - 67s 291ms/step - loss: 0.1913 - accuracy: 0.9397 - val_loss: 0.1611 - val_accuracy: 0.9441\n",
            "Epoch 33/60\n",
            "230/230 [==============================] - 69s 298ms/step - loss: 0.2002 - accuracy: 0.9318 - val_loss: 0.1662 - val_accuracy: 0.9430\n",
            "Epoch 34/60\n",
            "230/230 [==============================] - 69s 298ms/step - loss: 0.1739 - accuracy: 0.9422 - val_loss: 0.1633 - val_accuracy: 0.9430\n",
            "Epoch 35/60\n",
            "230/230 [==============================] - 67s 290ms/step - loss: 0.1860 - accuracy: 0.9389 - val_loss: 0.1687 - val_accuracy: 0.9419\n",
            "Epoch 36/60\n",
            "230/230 [==============================] - 70s 303ms/step - loss: 0.1631 - accuracy: 0.9433 - val_loss: 0.1597 - val_accuracy: 0.9419\n",
            "Epoch 37/60\n",
            "230/230 [==============================] - 67s 292ms/step - loss: 0.1454 - accuracy: 0.9526 - val_loss: 0.1632 - val_accuracy: 0.9430\n",
            "Epoch 38/60\n",
            "230/230 [==============================] - 67s 291ms/step - loss: 0.1489 - accuracy: 0.9526 - val_loss: 0.1637 - val_accuracy: 0.9463\n",
            "Epoch 39/60\n",
            "230/230 [==============================] - 64s 277ms/step - loss: 0.1542 - accuracy: 0.9441 - val_loss: 0.1636 - val_accuracy: 0.9452\n",
            "Epoch 40/60\n",
            "230/230 [==============================] - 68s 297ms/step - loss: 0.1456 - accuracy: 0.9512 - val_loss: 0.1576 - val_accuracy: 0.9496\n",
            "Epoch 41/60\n",
            "230/230 [==============================] - 64s 276ms/step - loss: 0.1264 - accuracy: 0.9520 - val_loss: 0.1609 - val_accuracy: 0.9496\n",
            "Epoch 42/60\n",
            "230/230 [==============================] - 63s 276ms/step - loss: 0.1409 - accuracy: 0.9466 - val_loss: 0.1636 - val_accuracy: 0.9452\n",
            "Epoch 43/60\n",
            "230/230 [==============================] - 63s 273ms/step - loss: 0.1218 - accuracy: 0.9586 - val_loss: 0.1584 - val_accuracy: 0.9452\n",
            "Epoch 44/60\n",
            "230/230 [==============================] - 65s 281ms/step - loss: 0.1090 - accuracy: 0.9613 - val_loss: 0.1734 - val_accuracy: 0.9463\n",
            "Epoch 45/60\n",
            "230/230 [==============================] - 64s 280ms/step - loss: 0.1127 - accuracy: 0.9605 - val_loss: 0.1798 - val_accuracy: 0.9485\n",
            "Epoch 46/60\n",
            "230/230 [==============================] - 64s 279ms/step - loss: 0.1140 - accuracy: 0.9553 - val_loss: 0.1833 - val_accuracy: 0.9485\n",
            "Epoch 47/60\n",
            "230/230 [==============================] - 67s 292ms/step - loss: 0.1150 - accuracy: 0.9586 - val_loss: 0.1761 - val_accuracy: 0.9496\n",
            "Epoch 48/60\n",
            "230/230 [==============================] - 65s 283ms/step - loss: 0.1058 - accuracy: 0.9654 - val_loss: 0.1759 - val_accuracy: 0.9485\n",
            "Epoch 49/60\n",
            "230/230 [==============================] - 64s 277ms/step - loss: 0.1118 - accuracy: 0.9616 - val_loss: 0.1715 - val_accuracy: 0.9474\n",
            "Epoch 50/60\n",
            "230/230 [==============================] - 64s 277ms/step - loss: 0.0853 - accuracy: 0.9733 - val_loss: 0.1743 - val_accuracy: 0.9463\n",
            "Epoch 51/60\n",
            "230/230 [==============================] - 62s 270ms/step - loss: 0.0862 - accuracy: 0.9722 - val_loss: 0.1766 - val_accuracy: 0.9474\n",
            "Epoch 52/60\n",
            "230/230 [==============================] - 65s 281ms/step - loss: 0.0992 - accuracy: 0.9659 - val_loss: 0.1776 - val_accuracy: 0.9485\n",
            "Epoch 53/60\n",
            "230/230 [==============================] - 64s 277ms/step - loss: 0.0953 - accuracy: 0.9656 - val_loss: 0.1839 - val_accuracy: 0.9485\n",
            "Epoch 54/60\n",
            "230/230 [==============================] - 63s 272ms/step - loss: 0.0838 - accuracy: 0.9703 - val_loss: 0.1866 - val_accuracy: 0.9518\n",
            "Epoch 55/60\n",
            "230/230 [==============================] - 65s 283ms/step - loss: 0.0845 - accuracy: 0.9730 - val_loss: 0.1703 - val_accuracy: 0.9518\n",
            "Epoch 56/60\n",
            "230/230 [==============================] - 65s 283ms/step - loss: 0.0901 - accuracy: 0.9711 - val_loss: 0.1710 - val_accuracy: 0.9529\n",
            "Epoch 57/60\n",
            "230/230 [==============================] - 63s 274ms/step - loss: 0.0945 - accuracy: 0.9662 - val_loss: 0.1783 - val_accuracy: 0.9496\n",
            "Epoch 58/60\n",
            "230/230 [==============================] - 63s 272ms/step - loss: 0.0883 - accuracy: 0.9667 - val_loss: 0.1742 - val_accuracy: 0.9539\n",
            "Epoch 59/60\n",
            "230/230 [==============================] - 66s 288ms/step - loss: 0.0956 - accuracy: 0.9654 - val_loss: 0.1928 - val_accuracy: 0.9496\n",
            "Epoch 60/60\n",
            "230/230 [==============================] - 65s 283ms/step - loss: 0.0721 - accuracy: 0.9760 - val_loss: 0.2021 - val_accuracy: 0.9507\n"
          ]
        }
      ],
      "source": [
        "model.compile(loss='categorical_crossentropy',\n",
        "              optimizer=tf.keras.optimizers.Adam(learning_rate = 0.0001),\n",
        "              metrics=['accuracy'])\n",
        "\n",
        "H = model.fit(\n",
        "    train_generator,\n",
        "    steps_per_epoch=total_train // batch_size,\n",
        "    validation_data=validation_generator,\n",
        "    validation_steps=total_val // batch_size,\n",
        "    epochs=60)"
      ]
    },
    {
      "cell_type": "markdown",
      "source": [
        "#Evaluasi Model"
      ],
      "metadata": {
        "id": "TIlxTS-RHvlC"
      }
    },
    {
      "cell_type": "code",
      "execution_count": null,
      "metadata": {
        "colab": {
          "base_uri": "https://localhost:8080/",
          "height": 904
        },
        "id": "HvUIWg2FIJFd",
        "outputId": "9fce0907-355a-4cf5-bcec-409171508f69"
      },
      "outputs": [
        {
          "output_type": "execute_result",
          "data": {
            "text/plain": [
              "Text(0.5, 1.0, 'Training and validation loss')"
            ]
          },
          "metadata": {},
          "execution_count": 20
        },
        {
          "output_type": "display_data",
          "data": {
            "text/plain": [
              "<Figure size 640x480 with 1 Axes>"
            ],
            "image/png": "[encoded data removed]"
          },
          "metadata": {}
        },
        {
          "output_type": "display_data",
          "data": {
            "text/plain": [
              "<Figure size 640x480 with 1 Axes>"
            ],
            "image/png": "[encoded data removed]"
          },
          "metadata": {}
        }
      ],
      "source": [
        "#-----------------------------------------------------------\n",
        "# Retrieve a list of list results on training and test data\n",
        "# sets for each training epoch\n",
        "#-----------------------------------------------------------\n",
        "acc      = H.history[    'accuracy' ]\n",
        "val_acc  = H.history['val_accuracy' ]\n",
        "loss     = H.history[    'loss' ]\n",
        "val_loss = H.history['val_loss' ]\n",
        "\n",
        "epochs   = range(len(acc)) # Get number of epochs\n",
        "\n",
        "#------------------------------------------------\n",
        "# Plot training and validation accuracy per epoch\n",
        "#------------------------------------------------\n",
        "plt.plot  ( epochs,     acc, label='Training')\n",
        "plt.plot  ( epochs, val_acc, label='Validation')\n",
        "plt.title ('Training and validation accuracy')\n",
        "plt.legend()\n",
        "plt.figure()\n",
        "\n",
        "#------------------------------------------------\n",
        "# Plot training and validation loss per epoch\n",
        "#------------------------------------------------\n",
        "plt.plot  ( epochs,     loss, label='Training')\n",
        "plt.plot  ( epochs, val_loss, label='Validation')\n",
        "plt.legend()\n",
        "plt.title ('Training and validation loss')"
      ]
    },
    {
      "cell_type": "code",
      "source": [
        "# Get the predictions for the validation data\n",
        "y_pred = model.predict(validation_generator)\n",
        "# Convert the predictions to class labels\n",
        "y_pred = np.argmax(y_pred, axis=1)\n",
        "# Print the classification report\n",
        "print(classification_report(validation_generator.classes, y_pred))"
      ],
      "metadata": {
        "id": "FFCNA1OYFSFN",
        "outputId": "ad253fa4-82f3-4864-fa8e-698d357f05cf",
        "colab": {
          "base_uri": "https://localhost:8080/"
        }
      },
      "execution_count": null,
      "outputs": [
        {
          "output_type": "stream",
          "name": "stdout",
          "text": [
            "58/58 [==============================] - 6s 99ms/step\n",
            "              precision    recall  f1-score   support\n",
            "\n",
            "           0       0.99      0.99      0.99       150\n",
            "           1       0.88      0.94      0.91       156\n",
            "           2       0.94      0.94      0.94       156\n",
            "           3       0.99      0.99      0.99       154\n",
            "           4       0.95      0.97      0.96       151\n",
            "           5       0.94      0.88      0.91       156\n",
            "\n",
            "    accuracy                           0.95       923\n",
            "   macro avg       0.95      0.95      0.95       923\n",
            "weighted avg       0.95      0.95      0.95       923\n",
            "\n"
          ]
        }
      ]
    },
    {
      "cell_type": "markdown",
      "source": [
        "#Save Model and Convert Model To Tensorflow Json"
      ],
      "metadata": {
        "id": "EQijzR-89MYt"
      }
    },
    {
      "cell_type": "code",
      "execution_count": null,
      "metadata": {
        "colab": {
          "base_uri": "https://localhost:8080/"
        },
        "id": "87U0HnM1FSTP",
        "outputId": "e19a1ea1-8b7f-41ba-9e23-debb19b38bf8"
      },
      "outputs": [
        {
          "output_type": "stream",
          "name": "stdout",
          "text": [
            "• Using TensorFlow Version: 2.15.0\n"
          ]
        }
      ],
      "source": [
        "import tensorflow as tf\n",
        "\n",
        "print('\\u2022 Using TensorFlow Version:', tf.__version__)"
      ]
    },
    {
      "cell_type": "code",
      "execution_count": null,
      "metadata": {
        "colab": {
          "base_uri": "https://localhost:8080/"
        },
        "id": "2MWDjSV-0R5w",
        "outputId": "a0ba96c0-9016-4927-b7f8-6972d6c83fd5"
      },
      "outputs": [
        {
          "output_type": "stream",
          "name": "stdout",
          "text": [
            "\u001b[2K     \u001b[90m━━━━━━━━━━━━━━━━━━━━━━━━━━━━━━━━━━━━━━━━\u001b[0m \u001b[32m89.1/89.1 kB\u001b[0m \u001b[31m2.1 MB/s\u001b[0m eta \u001b[36m0:00:00\u001b[0m\n",
            "\u001b[2K     \u001b[90m━━━━━━━━━━━━━━━━━━━━━━━━━━━━━━━━━━━━━━━━\u001b[0m \u001b[32m15.5/15.5 MB\u001b[0m \u001b[31m68.6 MB/s\u001b[0m eta \u001b[36m0:00:00\u001b[0m\n",
            "\u001b[2K     \u001b[90m━━━━━━━━━━━━━━━━━━━━━━━━━━━━━━━━━━━━━━━━\u001b[0m \u001b[32m53.0/53.0 kB\u001b[0m \u001b[31m7.1 MB/s\u001b[0m eta \u001b[36m0:00:00\u001b[0m\n",
            "\u001b[2K     \u001b[90m━━━━━━━━━━━━━━━━━━━━━━━━━━━━━━━━━━━━━━━━\u001b[0m \u001b[32m589.8/589.8 MB\u001b[0m \u001b[31m673.8 kB/s\u001b[0m eta \u001b[36m0:00:00\u001b[0m\n",
            "\u001b[2K     \u001b[90m━━━━━━━━━━━━━━━━━━━━━━━━━━━━━━━━━━━━━━━━\u001b[0m \u001b[32m1.7/1.7 MB\u001b[0m \u001b[31m53.0 MB/s\u001b[0m eta \u001b[36m0:00:00\u001b[0m\n",
            "\u001b[2K     \u001b[90m━━━━━━━━━━━━━━━━━━━━━━━━━━━━━━━━━━━━━━━━\u001b[0m \u001b[32m9.2/9.2 MB\u001b[0m \u001b[31m60.8 MB/s\u001b[0m eta \u001b[36m0:00:00\u001b[0m\n",
            "\u001b[2K     \u001b[90m━━━━━━━━━━━━━━━━━━━━━━━━━━━━━━━━━━━━━━━━\u001b[0m \u001b[32m5.3/5.3 MB\u001b[0m \u001b[31m63.3 MB/s\u001b[0m eta \u001b[36m0:00:00\u001b[0m\n",
            "\u001b[2K     \u001b[90m━━━━━━━━━━━━━━━━━━━━━━━━━━━━━━━━━━━━━━━━\u001b[0m \u001b[32m2.2/2.2 MB\u001b[0m \u001b[31m61.3 MB/s\u001b[0m eta \u001b[36m0:00:00\u001b[0m\n",
            "\u001b[2K     \u001b[90m━━━━━━━━━━━━━━━━━━━━━━━━━━━━━━━━━━━━━━━━\u001b[0m \u001b[32m5.5/5.5 MB\u001b[0m \u001b[31m65.3 MB/s\u001b[0m eta \u001b[36m0:00:00\u001b[0m\n",
            "\u001b[2K     \u001b[90m━━━━━━━━━━━━━━━━━━━━━━━━━━━━━━━━━━━━━━━━\u001b[0m \u001b[32m1.1/1.1 MB\u001b[0m \u001b[31m49.0 MB/s\u001b[0m eta \u001b[36m0:00:00\u001b[0m\n",
            "\u001b[2K     \u001b[90m━━━━━━━━━━━━━━━━━━━━━━━━━━━━━━━━━━━━━━━━\u001b[0m \u001b[32m311.2/311.2 kB\u001b[0m \u001b[31m26.3 MB/s\u001b[0m eta \u001b[36m0:00:00\u001b[0m\n",
            "\u001b[?25h"
          ]
        }
      ],
      "source": [
        "pip install tensorflowjs --quiet"
      ]
    },
    {
      "cell_type": "code",
      "execution_count": null,
      "metadata": {
        "colab": {
          "base_uri": "https://localhost:8080/"
        },
        "outputId": "2020a8f6-cdc2-4adf-9ed0-d4b08d5e3db9",
        "id": "ABBuC5zRHPjN"
      },
      "outputs": [
        {
          "output_type": "stream",
          "name": "stdout",
          "text": [
            "2024-06-19 15:27:48.920438: W tensorflow/compiler/tf2tensorrt/utils/py_utils.cc:38] TF-TRT Warning: Could not find TensorRT\n",
            "  adding: group1-shard1of7.bin (deflated 8%)\n",
            "  adding: group1-shard2of7.bin (deflated 8%)\n",
            "  adding: group1-shard3of7.bin (deflated 8%)\n",
            "  adding: group1-shard4of7.bin (deflated 7%)\n",
            "  adding: group1-shard5of7.bin (deflated 7%)\n",
            "  adding: group1-shard6of7.bin (deflated 7%)\n",
            "  adding: group1-shard7of7.bin (deflated 7%)\n",
            "  adding: model.json (deflated 95%)\n"
          ]
        }
      ],
      "source": [
        "# tensorflow.js converter to convert the saved Keras model into JSON format.\n",
        "\n",
        "saved_model_path = \"/content/model_wastify.h5\"\n",
        "!tensorflowjs_converter --input_format=keras {saved_model_path} ./\n",
        "!zip modelwastify.zip *.bin model.json"
      ]
    }
  ]
}